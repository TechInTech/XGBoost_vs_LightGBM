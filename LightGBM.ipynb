{
 "cells": [
  {
   "cell_type": "code",
   "execution_count": 19,
   "metadata": {
    "collapsed": false
   },
   "outputs": [],
   "source": [
    "# original version\n",
    "# https://github.com/marugari/Notebooks/blob/ed6aa7835579ce9143850ed5956912895c984d56/LightGBM.ipynb\n",
    "\n",
    "import numpy as np\n",
    "import pandas as pd\n",
    "import xgboost as xgb\n",
    "import lightgbm as lgb\n",
    "import matplotlib.pyplot as plt\n",
    "from sklearn import preprocessing\n",
    "import time\n",
    "%matplotlib inline"
   ]
  },
  {
   "cell_type": "code",
   "execution_count": 20,
   "metadata": {
    "collapsed": false
   },
   "outputs": [
    {
     "name": "stdout",
     "output_type": "stream",
     "text": [
      "(61878, 95)\n"
     ]
    }
   ],
   "source": [
    "train = pd.read_csv('input/train.csv')\n",
    "print(train.shape)"
   ]
  },
  {
   "cell_type": "code",
   "execution_count": 21,
   "metadata": {
    "collapsed": true
   },
   "outputs": [],
   "source": [
    "def encode_features(dat):\n",
    "    df = pd.DataFrame(index=dat.index.values)\n",
    "    for c in dat.columns.values:\n",
    "        unq = np.unique(dat[c])\n",
    "        arr = np.zeros(len(df))\n",
    "        for ii, u in enumerate(unq):\n",
    "            flg = (dat[c] == u).values\n",
    "            arr[flg] = ii\n",
    "        df[c] = arr.astype(int)\n",
    "    return df"
   ]
  },
  {
   "cell_type": "code",
   "execution_count": 22,
   "metadata": {
    "collapsed": false
   },
   "outputs": [
    {
     "name": "stdout",
     "output_type": "stream",
     "text": [
      "((61878, 93), (61878,))\n"
     ]
    }
   ],
   "source": [
    "x = encode_features(train.drop(['id', 'target'], axis=1))\n",
    "y = np.array([int(v.split('_')[1])-1 for v in train.target])\n",
    "print(x.shape, y.shape)"
   ]
  },
  {
   "cell_type": "code",
   "execution_count": 23,
   "metadata": {
    "collapsed": false
   },
   "outputs": [
    {
     "name": "stdout",
     "output_type": "stream",
     "text": [
      "9\n"
     ]
    }
   ],
   "source": [
    "num_cls = len(np.unique(y))\n",
    "print(num_cls)"
   ]
  },
  {
   "cell_type": "code",
   "execution_count": 24,
   "metadata": {
    "collapsed": true
   },
   "outputs": [],
   "source": [
    "prm_xgb = {\n",
    "    'booster': 'gbtree',\n",
    "    'objective': 'multi:softprob',\n",
    "    'num_class': num_cls,\n",
    "    'max_depth': 5,\n",
    "    'learning_rate': 0.1,\n",
    "    'colsample_bytree': 0.9,\n",
    "    'subsample': 0.9,\n",
    "    'eval_metric': 'mlogloss',\n",
    "    # added\n",
    "    'silent': 1,\n",
    "}\n",
    "prm_lgb_1 = {\n",
    "    'boosting_type': 'gbdt',\n",
    "    'objective': 'multiclass',\n",
    "    'num_class': num_cls,\n",
    "    'num_leaves' : 2**5-1,\n",
    "    'learning_rate': 0.1,\n",
    "    'feature_fraction': 0.9,\n",
    "    'bagging_fraction': 0.9,\n",
    "    'metric': 'multi_logloss',\n",
    "    # added \n",
    "    'verbose': 0,\n",
    "}\n",
    "prm_lgb_2 = {\n",
    "    'boosting_type': 'gbdt',\n",
    "    'objective': 'multiclass',\n",
    "    'num_class': num_cls,\n",
    "    'num_leaves' : 2**6, # changed\n",
    "    'learning_rate': 0.1,\n",
    "    'feature_fraction': 0.9,\n",
    "    'bagging_fraction': 0.9,\n",
    "    'metric': 'multi_logloss',\n",
    "    # added \n",
    "    'max_depth': 5,\n",
    "    'bagging_freq': 1,\n",
    "    'min_data_in_leaf': 1,\n",
    "    'min_sum_hessian_in_leaf': 1,\n",
    "    'lambda_l2': 1,\n",
    "    'verbose': 0,\n",
    "}\n",
    "num_round = 100"
   ]
  },
  {
   "cell_type": "code",
   "execution_count": 25,
   "metadata": {
    "collapsed": true
   },
   "outputs": [],
   "source": [
    "flg_train = np.random.choice([False, True], len(y), p=[0.3, 0.7])\n",
    "flg_valid = np.logical_not(flg_train)"
   ]
  },
  {
   "cell_type": "code",
   "execution_count": 26,
   "metadata": {
    "collapsed": true
   },
   "outputs": [],
   "source": [
    "dt_xgb   = xgb.DMatrix(x[flg_train], y[flg_train])\n",
    "dv_xgb   = xgb.DMatrix(x[flg_valid], y[flg_valid])\n",
    "dt_lgb   = lgb.Dataset(x[flg_train], y[flg_train])\n",
    "dv_lgb   = lgb.Dataset(x[flg_valid], y[flg_valid], reference=dt_lgb)\n",
    "dt_lgb_c = lgb.Dataset(x[flg_train], y[flg_train], free_raw_data=False)\n",
    "dv_lgb_c = lgb.Dataset(x[flg_valid], y[flg_valid], free_raw_data=False,\n",
    "                       reference=dt_lgb)"
   ]
  },
  {
   "cell_type": "code",
   "execution_count": 27,
   "metadata": {
    "collapsed": false
   },
   "outputs": [
    {
     "name": "stdout",
     "output_type": "stream",
     "text": [
      "24.3529448509\n"
     ]
    }
   ],
   "source": [
    "scores_xgb = {}\n",
    "time_s = time.time()\n",
    "obj_xgb = xgb.train(\n",
    "    prm_xgb, dt_xgb, num_round,\n",
    "    [(dt_xgb, 'train'), (dv_xgb, 'valid')], evals_result=scores_xgb, verbose_eval=False)\n",
    "time_t = time.time()\n",
    "print(time_t - time_s)"
   ]
  },
  {
   "cell_type": "code",
   "execution_count": 28,
   "metadata": {
    "collapsed": false
   },
   "outputs": [
    {
     "name": "stdout",
     "output_type": "stream",
     "text": [
      "4.80789017677\n"
     ]
    }
   ],
   "source": [
    "scores_lgb_1 = {}\n",
    "time_s = time.time()\n",
    "obj_lgb_1 = lgb.train(\n",
    "    prm_lgb_1, dt_lgb, num_boost_round=num_round,\n",
    "    valid_sets=dv_lgb, evals_result=scores_lgb_1, verbose_eval=False)\n",
    "time_t = time.time()\n",
    "print(time_t - time_s)"
   ]
  },
  {
   "cell_type": "code",
   "execution_count": 29,
   "metadata": {
    "collapsed": false
   },
   "outputs": [
    {
     "name": "stdout",
     "output_type": "stream",
     "text": [
      "4.14032483101\n"
     ]
    }
   ],
   "source": [
    "scores_lgb_2 = {}\n",
    "time_s = time.time()\n",
    "obj_lgb_2 = lgb.train(\n",
    "    prm_lgb_2, dt_lgb, num_boost_round=num_round,\n",
    "    valid_sets=dv_lgb, evals_result=scores_lgb_2, verbose_eval=False)\n",
    "time_t = time.time()\n",
    "print(time_t - time_s)"
   ]
  },
  {
   "cell_type": "code",
   "execution_count": 30,
   "metadata": {
    "collapsed": false
   },
   "outputs": [
    {
     "data": {
      "text/html": [
       "<div>\n",
       "<table border=\"1\" class=\"dataframe\">\n",
       "  <thead>\n",
       "    <tr style=\"text-align: right;\">\n",
       "      <th></th>\n",
       "      <th>LGB_chng</th>\n",
       "      <th>LGB_orig</th>\n",
       "      <th>XGB</th>\n",
       "    </tr>\n",
       "  </thead>\n",
       "  <tbody>\n",
       "    <tr>\n",
       "      <th>98</th>\n",
       "      <td>0.568889</td>\n",
       "      <td>0.519678</td>\n",
       "      <td>0.567281</td>\n",
       "    </tr>\n",
       "    <tr>\n",
       "      <th>99</th>\n",
       "      <td>0.567796</td>\n",
       "      <td>0.518939</td>\n",
       "      <td>0.566362</td>\n",
       "    </tr>\n",
       "  </tbody>\n",
       "</table>\n",
       "</div>"
      ],
      "text/plain": [
       "    LGB_chng  LGB_orig       XGB\n",
       "98  0.568889  0.519678  0.567281\n",
       "99  0.567796  0.518939  0.566362"
      ]
     },
     "execution_count": 30,
     "metadata": {},
     "output_type": "execute_result"
    }
   ],
   "source": [
    "df_score = pd.DataFrame({'XGB':scores_xgb['valid']['mlogloss'],\n",
    "                         'LGB_orig':scores_lgb_1['valid_0']['multi_logloss'],\n",
    "                         'LGB_chng':scores_lgb_2['valid_0']['multi_logloss']})\n",
    "df_score.tail(2)"
   ]
  },
  {
   "cell_type": "code",
   "execution_count": 31,
   "metadata": {
    "collapsed": false
   },
   "outputs": [
    {
     "data": {
      "text/plain": [
       "<matplotlib.text.Text at 0x7f8c95366190>"
      ]
     },
     "execution_count": 31,
     "metadata": {},
     "output_type": "execute_result"
    },
    {
     "data": {
      "image/png": "[encoded data removed]",
      "text/plain": [
       "<matplotlib.figure.Figure at 0x7f8ca97ae810>"
      ]
     },
     "metadata": {},
     "output_type": "display_data"
    }
   ],
   "source": [
    "ax = df_score.plot(figsize=(12,5))\n",
    "ax.set_xlabel(\"Boosting iterations\")\n",
    "ax.set_ylabel(\"mlogloss\")"
   ]
  },
  {
   "cell_type": "code",
   "execution_count": 32,
   "metadata": {
    "collapsed": false
   },
   "outputs": [],
   "source": [
    "dmp = obj_xgb.get_dump()\n",
    "leaf_cnts_xgb = np.array([tree.count('leaf') for tree in dmp]).reshape((100, 9))\n",
    "\n",
    "model = obj_lgb_1.dump_model()\n",
    "tree_lst = [str(tree['tree_structure']) for tree in model['tree_info']]\n",
    "leaf_cnts_lgb_1 = np.array([tree.count('leaf_value') for tree in tree_lst]).reshape((100, 9))\n",
    "\n",
    "model = obj_lgb_2.dump_model()\n",
    "tree_lst = [str(tree['tree_structure']) for tree in model['tree_info']]\n",
    "leaf_cnts_lgb_2 = np.array([tree.count('leaf_value') for tree in tree_lst]).reshape((100, 9))"
   ]
  },
  {
   "cell_type": "code",
   "execution_count": 33,
   "metadata": {
    "collapsed": false,
    "scrolled": true
   },
   "outputs": [
    {
     "data": {
      "text/plain": [
       "array([[22, 28, 19, 23,  9, 21, 28, 15, 21],\n",
       "       [26, 31, 25, 23, 21, 28, 29, 22, 23],\n",
       "       [23, 31, 20, 32, 19, 14, 27, 28, 23]])"
      ]
     },
     "execution_count": 33,
     "metadata": {},
     "output_type": "execute_result"
    }
   ],
   "source": [
    "leaf_cnts_xgb[-3:]"
   ]
  },
  {
   "cell_type": "code",
   "execution_count": 34,
   "metadata": {
    "collapsed": false,
    "scrolled": false
   },
   "outputs": [
    {
     "data": {
      "text/plain": [
       "array([[31, 31, 31, 31, 20, 31, 31, 31, 31],\n",
       "       [31, 31, 31, 31, 20, 31, 31, 31, 31],\n",
       "       [31, 31, 31, 31, 19, 31, 31, 31, 31]])"
      ]
     },
     "execution_count": 34,
     "metadata": {},
     "output_type": "execute_result"
    }
   ],
   "source": [
    "leaf_cnts_lgb_1[-3:]"
   ]
  },
  {
   "cell_type": "code",
   "execution_count": 35,
   "metadata": {
    "collapsed": false,
    "scrolled": false
   },
   "outputs": [
    {
     "data": {
      "text/plain": [
       "array([[22, 24, 27, 19, 11, 17, 31, 27, 24],\n",
       "       [21, 32, 29, 18, 20, 17, 22, 20, 21],\n",
       "       [27, 23, 22, 28, 18, 32, 29, 17, 18]])"
      ]
     },
     "execution_count": 35,
     "metadata": {},
     "output_type": "execute_result"
    }
   ],
   "source": [
    "leaf_cnts_lgb_2[-3:]"
   ]
  },
  {
   "cell_type": "code",
   "execution_count": 36,
   "metadata": {
    "collapsed": false
   },
   "outputs": [
    {
     "data": {
      "text/plain": [
       "<matplotlib.text.Text at 0x7f8c9d121f50>"
      ]
     },
     "execution_count": 36,
     "metadata": {},
     "output_type": "execute_result"
    },
    {
     "data": {
      "image/png": "[encoded data removed]",
      "text/plain": [
       "<matplotlib.figure.Figure at 0x7f8ca970ec90>"
      ]
     },
     "metadata": {},
     "output_type": "display_data"
    }
   ],
   "source": [
    "ax = pd.DataFrame({'XGB':leaf_cnts_xgb.mean(1),\n",
    "                   'LGB_orig':leaf_cnts_lgb_1.mean(1),\n",
    "                   'LGB_chng':leaf_cnts_lgb_2.mean(1)}).plot(ylim=(15, 32), figsize=(12,5))\n",
    "ax.set_xlabel(\"Boosting iterations\")\n",
    "ax.set_ylabel(\"Mean leaf counts\")"
   ]
  }
 ],
 "metadata": {
  "kernelspec": {
   "display_name": "Python 2",
   "language": "python",
   "name": "python2"
  },
  "language_info": {
   "codemirror_mode": {
    "name": "ipython",
    "version": 2
   },
   "file_extension": ".py",
   "mimetype": "text/x-python",
   "name": "python",
   "nbconvert_exporter": "python",
   "pygments_lexer": "ipython2",
   "version": "2.7.6"
  }
 },
 "nbformat": 4,
 "nbformat_minor": 2
}
